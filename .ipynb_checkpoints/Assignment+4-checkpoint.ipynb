{
 "cells": [
  {
   "cell_type": "code",
   "execution_count": 76,
   "metadata": {
    "scrolled": false
   },
   "outputs": [
    {
     "name": "stderr",
     "output_type": "stream",
     "text": [
      "C:\\Users\\sarve\\Anaconda3\\lib\\site-packages\\IPython\\core\\interactiveshell.py:3049: DtypeWarning: Columns (11,12,31) have mixed types. Specify dtype option on import or set low_memory=False.\n",
      "  interactivity=interactivity, compiler=compiler, result=result)\n",
      "C:\\Users\\sarve\\Anaconda3\\lib\\site-packages\\sklearn\\model_selection\\_split.py:2053: FutureWarning: You should specify a value for 'cv' instead of relying on the default value. The default value will change from 3 to 5 in version 0.22.\n",
      "  warnings.warn(CV_WARNING, FutureWarning)\n"
     ]
    }
   ],
   "source": [
    "import numpy as np\n",
    "import pandas as pd\n",
    "from sklearn.preprocessing import LabelEncoder\n",
    "from sklearn.model_selection import train_test_split , GridSearchCV , cross_val_score\n",
    "from sklearn.ensemble import RandomForestRegressor , GradientBoostingClassifier\n",
    "from sklearn.metrics import roc_auc_score\n",
    "train_data=pd.read_csv('train.csv', encoding='ISO-8859-1')\n",
    "test_data=pd.read_csv('test.csv', encoding='ISO-8859-1')\n",
    "#train_data=pd.DataFrame(train_data).drop(['violation_zip_code','collection_status','grafitti_status','payment_date'],axis=1)\n",
    "train_data=train_data.where(train_data['country']=='USA')\n",
    "train_data=train_data.dropna(subset=['compliance'])\n",
    "#train_data['compliance']=train_data['compliance'].fillna(0)\n",
    "test_data=test_data.set_index('ticket_id')\n",
    "train_data['disposition']=train_data['disposition'].astype(str)\n",
    "train_data['violation_code']=train_data['violation_code'].astype(str)\n",
    "enc_data=train_data['disposition'].append(test_data['disposition'])\n",
    "label_enc=LabelEncoder()\n",
    "label_enc.fit(enc_data)\n",
    "train_data['disposition']=label_enc.transform(train_data['disposition'])\n",
    "test_data['disposition']=label_enc.transform(test_data['disposition'])\n",
    "enc_data=train_data['violation_code'].append(test_data['violation_code'])\n",
    "label_enc.fit(enc_data)\n",
    "train_data['violation_code']=label_enc.transform(train_data['violation_code'])\n",
    "test_data['violation_code']=label_enc.transform(test_data['violation_code'])\n",
    "\n",
    "x=train_data[['disposition','violation_code']]\n",
    "y=train_data['compliance']\n",
    "x_train,x_test,y_train,y_test=train_test_split(x,y,random_state=0)\n",
    "rf_reg=RandomForestRegressor()\n",
    "param_grid = {'n_estimators':[5,7], 'max_depth':[5,10]}\n",
    "grid_search = GridSearchCV(rf_reg, param_grid, scoring=\"roc_auc\")\n",
    "grid_result = grid_search.fit(x_train, y_train)\n",
    "res=pd.Series(grid_result.predict(test_data[['disposition','violation_code']]),index=test_data.index)"
   ]
  },
  {
   "cell_type": "code",
   "execution_count": 77,
   "metadata": {},
   "outputs": [
    {
     "data": {
      "text/plain": [
       "ticket_id\n",
       "284932    0.155421\n",
       "285362    0.028947\n",
       "285361    0.063211\n",
       "285338    0.028947\n",
       "285346    0.085918\n",
       "285345    0.028947\n",
       "285347    0.062701\n",
       "285342    0.468234\n",
       "285530    0.028947\n",
       "284989    0.028947\n",
       "285344    0.052546\n",
       "285343    0.028947\n",
       "285340    0.028947\n",
       "285341    0.052546\n",
       "285349    0.085918\n",
       "285348    0.028947\n",
       "284991    0.028947\n",
       "285532    0.028947\n",
       "285406    0.028947\n",
       "285001    0.038498\n",
       "285006    0.051446\n",
       "285405    0.028947\n",
       "285337    0.028947\n",
       "285496    0.052546\n",
       "285497    0.028947\n",
       "285378    0.028947\n",
       "285589    0.028947\n",
       "285585    0.028947\n",
       "285501    0.063211\n",
       "285581    0.028947\n",
       "            ...   \n",
       "376367    0.051446\n",
       "376366    0.038498\n",
       "376362    0.267237\n",
       "376363    0.225965\n",
       "376365    0.051446\n",
       "376364    0.038498\n",
       "376228    0.038498\n",
       "376265    0.038498\n",
       "376286    0.333792\n",
       "376320    0.038498\n",
       "376314    0.038498\n",
       "376327    0.333792\n",
       "376385    0.333792\n",
       "376435    0.161448\n",
       "376370    0.267237\n",
       "376434    0.062701\n",
       "376459    0.184850\n",
       "376478    0.031144\n",
       "376473    0.038498\n",
       "376484    0.012486\n",
       "376482    0.036822\n",
       "376480    0.012486\n",
       "376479    0.012486\n",
       "376481    0.012486\n",
       "376483    0.019316\n",
       "376496    0.015839\n",
       "376497    0.015839\n",
       "376499    0.085918\n",
       "376500    0.085918\n",
       "369851    0.052546\n",
       "Length: 61001, dtype: float64"
      ]
     },
     "execution_count": 77,
     "metadata": {},
     "output_type": "execute_result"
    }
   ],
   "source": [
    "res"
   ]
  },
  {
   "cell_type": "code",
   "execution_count": 80,
   "metadata": {},
   "outputs": [],
   "source": [
    "train_data=train_data.where(train_data['country']=='USA')"
   ]
  },
  {
   "cell_type": "code",
   "execution_count": 93,
   "metadata": {},
   "outputs": [],
   "source": [
    "train_data['disposition']=str(train_data['disposition'])"
   ]
  },
  {
   "cell_type": "code",
   "execution_count": 101,
   "metadata": {},
   "outputs": [
    {
     "data": {
      "text/plain": [
       "0                    9-1-36(a)\n",
       "1                   61-63.0600\n",
       "5                    9-1-36(a)\n",
       "6                   61-63.0500\n",
       "7                   61-63.0100\n",
       "8                   61-63.0100\n",
       "9                   61-63.0600\n",
       "12                  61-63.0600\n",
       "13                  61-63.0600\n",
       "14                  61-63.0600\n",
       "18                  61-63.0100\n",
       "19                  61-63.0100\n",
       "21                  61-63.0600\n",
       "22                  61-63.0600\n",
       "23                  61-63.0600\n",
       "26                  9-1-103(C)\n",
       "28                   9-1-36(a)\n",
       "30                   9-1-36(a)\n",
       "31                   9-1-36(a)\n",
       "33                   9-1-36(a)\n",
       "34                   9-1-36(a)\n",
       "35                   9-1-36(a)\n",
       "37                   9-1-36(a)\n",
       "38                   9-1-36(a)\n",
       "39                   9-1-36(a)\n",
       "40                   9-1-36(a)\n",
       "41                   9-1-36(a)\n",
       "42                   9-1-36(a)\n",
       "43                   9-1-36(a)\n",
       "44                   9-1-36(a)\n",
       "                  ...         \n",
       "250244                 61-5-18\n",
       "250249               9-1-36(a)\n",
       "250250               9-1-36(a)\n",
       "250254    9-1-82(d) - (Dwellin\n",
       "250255               9-1-36(a)\n",
       "250256               9-1-81(a)\n",
       "250257              22-2-83(c)\n",
       "250258                 22-2-87\n",
       "250259              22-2-83(c)\n",
       "250261                 9-1-105\n",
       "250262              22-2-22(a)\n",
       "250264              9-1-110(a)\n",
       "250265              22-2-83(c)\n",
       "250266              9-1-110(a)\n",
       "250267              9-1-110(a)\n",
       "250268              9-1-110(a)\n",
       "250269              9-1-110(a)\n",
       "250270              9-1-110(a)\n",
       "250271              9-1-110(a)\n",
       "250272              9-1-110(a)\n",
       "250273              9-1-110(a)\n",
       "250274              22-2-88(b)\n",
       "250275              9-1-110(a)\n",
       "250276                 9-1-105\n",
       "250277              22-2-88(b)\n",
       "250278              22-2-88(b)\n",
       "250287              22-2-88(b)\n",
       "250288              22-2-88(b)\n",
       "250290                 22-2-61\n",
       "250293              22-2-88(b)\n",
       "Name: violation_code, Length: 159880, dtype: object"
      ]
     },
     "execution_count": 101,
     "metadata": {},
     "output_type": "execute_result"
    }
   ],
   "source": [
    "train_data['violation_code']"
   ]
  },
  {
   "cell_type": "code",
   "execution_count": 79,
   "metadata": {},
   "outputs": [
    {
     "data": {
      "text/plain": [
       "array([0., 1.])"
      ]
     },
     "execution_count": 79,
     "metadata": {},
     "output_type": "execute_result"
    }
   ],
   "source": [
    "y.unique()"
   ]
  },
  {
   "cell_type": "code",
   "execution_count": 78,
   "metadata": {},
   "outputs": [
    {
     "data": {
      "text/plain": [
       "0         0.0\n",
       "1         1.0\n",
       "5         0.0\n",
       "6         0.0\n",
       "7         0.0\n",
       "8         0.0\n",
       "9         0.0\n",
       "12        0.0\n",
       "13        0.0\n",
       "14        0.0\n",
       "18        1.0\n",
       "19        1.0\n",
       "21        0.0\n",
       "22        0.0\n",
       "23        0.0\n",
       "26        0.0\n",
       "28        0.0\n",
       "30        0.0\n",
       "31        0.0\n",
       "33        0.0\n",
       "34        0.0\n",
       "35        0.0\n",
       "37        1.0\n",
       "38        0.0\n",
       "39        0.0\n",
       "40        0.0\n",
       "41        1.0\n",
       "42        0.0\n",
       "43        0.0\n",
       "44        1.0\n",
       "         ... \n",
       "250244    0.0\n",
       "250249    0.0\n",
       "250250    0.0\n",
       "250254    0.0\n",
       "250255    0.0\n",
       "250256    0.0\n",
       "250257    0.0\n",
       "250258    0.0\n",
       "250259    0.0\n",
       "250261    0.0\n",
       "250262    0.0\n",
       "250264    0.0\n",
       "250265    1.0\n",
       "250266    0.0\n",
       "250267    0.0\n",
       "250268    0.0\n",
       "250269    0.0\n",
       "250270    0.0\n",
       "250271    0.0\n",
       "250272    0.0\n",
       "250273    0.0\n",
       "250274    0.0\n",
       "250275    0.0\n",
       "250276    0.0\n",
       "250277    0.0\n",
       "250278    0.0\n",
       "250287    0.0\n",
       "250288    0.0\n",
       "250290    1.0\n",
       "250293    0.0\n",
       "Name: compliance, Length: 159869, dtype: float64"
      ]
     },
     "execution_count": 78,
     "metadata": {},
     "output_type": "execute_result"
    }
   ],
   "source": [
    "y"
   ]
  },
  {
   "cell_type": "code",
   "execution_count": 56,
   "metadata": {},
   "outputs": [
    {
     "data": {
      "text/plain": [
       "Index(['agency_name', 'inspector_name', 'violator_name',\n",
       "       'violation_street_number', 'violation_street_name',\n",
       "       'violation_zip_code', 'mailing_address_str_number',\n",
       "       'mailing_address_str_name', 'city', 'state', 'zip_code',\n",
       "       'non_us_str_code', 'country', 'ticket_issued_date', 'hearing_date',\n",
       "       'violation_code', 'violation_description', 'disposition', 'fine_amount',\n",
       "       'admin_fee', 'state_fee', 'late_fee', 'discount_amount',\n",
       "       'clean_up_cost', 'judgment_amount', 'grafitti_status'],\n",
       "      dtype='object')"
      ]
     },
     "execution_count": 56,
     "metadata": {},
     "output_type": "execute_result"
    }
   ],
   "source": [
    "test_data.columns"
   ]
  },
  {
   "cell_type": "raw",
   "metadata": {},
   "source": []
  }
 ],
 "metadata": {
  "kernelspec": {
   "display_name": "Python 3",
   "language": "python",
   "name": "python3"
  },
  "language_info": {
   "codemirror_mode": {
    "name": "ipython",
    "version": 3
   },
   "file_extension": ".py",
   "mimetype": "text/x-python",
   "name": "python",
   "nbconvert_exporter": "python",
   "pygments_lexer": "ipython3",
   "version": "3.7.3"
  }
 },
 "nbformat": 4,
 "nbformat_minor": 2
}
